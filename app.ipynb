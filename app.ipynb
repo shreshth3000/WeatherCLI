{
 "cells": [
  {
   "cell_type": "code",
   "execution_count": 8,
   "id": "c642d542-5df2-4256-baab-188b9e4f8242",
   "metadata": {},
   "outputs": [],
   "source": [
    "import requests\n",
    "import json\n",
    "import os\n",
    "from dotenv import load_dotenv\n",
    "from geopy.geocoders import Nominatim"
   ]
  },
  {
   "cell_type": "code",
   "execution_count": 9,
   "id": "42c77804",
   "metadata": {},
   "outputs": [],
   "source": [
    "import google.generativeai as genai\n",
    "from google.generativeai import GenerationConfig"
   ]
  },
  {
   "cell_type": "code",
   "execution_count": 12,
   "id": "202a3442-15aa-4e82-af0d-81f887aeb763",
   "metadata": {},
   "outputs": [
    {
     "data": {
      "text/plain": [
       "True"
      ]
     },
     "execution_count": 12,
     "metadata": {},
     "output_type": "execute_result"
    }
   ],
   "source": [
    "load_dotenv()"
   ]
  },
  {
   "cell_type": "code",
   "execution_count": 14,
   "id": "476aa0e9",
   "metadata": {},
   "outputs": [],
   "source": [
    "def get_coordinates(city_name):\n",
    "    geolocator = Nominatim(user_agent=\"geoapi\")\n",
    "    location = geolocator.geocode(city_name)\n",
    "    if location:\n",
    "        return (location.latitude, location.longitude)\n",
    "    return None"
   ]
  },
  {
   "cell_type": "code",
   "execution_count": 16,
   "id": "63f7527a",
   "metadata": {},
   "outputs": [],
   "source": [
    "genai.configure(api_key=os.getenv(\"GEMINI_KEY\"))"
   ]
  },
  {
   "cell_type": "code",
   "execution_count": 18,
   "id": "291af390-0cb8-48a8-9c45-5c61f2959d6d",
   "metadata": {},
   "outputs": [],
   "source": [
    "base_url=\"http://api.weatherapi.com/v1\""
   ]
  },
  {
   "cell_type": "code",
   "execution_count": 20,
   "id": "38b43cbd",
   "metadata": {},
   "outputs": [],
   "source": [
    "gc=GenerationConfig(\n",
    "    temperature=0.5,\n",
    "    max_output_tokens=35\n",
    ")\n",
    "model=genai.GenerativeModel(\"gemini-2.0-flash\",generation_config=gc)"
   ]
  },
  {
   "cell_type": "code",
   "execution_count": 22,
   "id": "48d4e1af",
   "metadata": {},
   "outputs": [],
   "source": [
    "chat=genai.ChatSession(model=model,history=[])"
   ]
  },
  {
   "cell_type": "code",
   "execution_count": 24,
   "id": "21297f5b",
   "metadata": {},
   "outputs": [
    {
     "data": {
      "text/plain": [
       "response:\n",
       "GenerateContentResponse(\n",
       "    done=True,\n",
       "    iterator=None,\n",
       "    result=protos.GenerateContentResponse({\n",
       "      \"candidates\": [\n",
       "        {\n",
       "          \"content\": {\n",
       "            \"parts\": [\n",
       "              {\n",
       "                \"text\": \"Okay, I understand. My task is to extract the city or region name from the user's input in a format suitable for use with the GeoPy library. This means\"\n",
       "              }\n",
       "            ],\n",
       "            \"role\": \"model\"\n",
       "          },\n",
       "          \"finish_reason\": \"MAX_TOKENS\",\n",
       "          \"avg_logprobs\": -0.13160305023193358\n",
       "        }\n",
       "      ],\n",
       "      \"usage_metadata\": {\n",
       "        \"prompt_token_count\": 45,\n",
       "        \"candidates_token_count\": 35,\n",
       "        \"total_token_count\": 80\n",
       "      }\n",
       "    }),\n",
       ")"
      ]
     },
     "execution_count": 24,
     "metadata": {},
     "output_type": "execute_result"
    }
   ],
   "source": [
    "chat.send_message(\"\"\"\n",
    "                    You are given as input a city or coordinates for which the user is to find out the weather...\n",
    "                    RETURN THE NAME OF THE CITY OR REGION AS IT WOULD BE INDEXED IN GEOPY  \n",
    "                  \"\"\")"
   ]
  },
  {
   "cell_type": "code",
   "execution_count": 25,
   "id": "46957268-50e9-4fe5-96d1-bd9557063f27",
   "metadata": {},
   "outputs": [
    {
     "name": "stdout",
     "output_type": "stream",
     "text": [
      "Do you wish to check for the forecast, or the current weather? Press 1 for forecast and 2 for current weather...:\n",
      " 2\n"
     ]
    },
    {
     "data": {
      "text/plain": [
       "2"
      ]
     },
     "execution_count": 25,
     "metadata": {},
     "output_type": "execute_result"
    }
   ],
   "source": [
    "fc=int(input(\"Do you wish to check for the forecast, or the current weather? Press 1 for forecast and 2 for current weather...:\\n\"))\n",
    "fc"
   ]
  },
  {
   "cell_type": "code",
   "execution_count": 28,
   "id": "47d1160f-c3a7-4ca8-abbc-543acf221bdb",
   "metadata": {},
   "outputs": [
    {
     "name": "stdout",
     "output_type": "stream",
     "text": [
      "Do you wish to see weather alerts? Yes or No?:\n",
      " y\n"
     ]
    },
    {
     "data": {
      "text/plain": [
       "'y'"
      ]
     },
     "execution_count": 28,
     "metadata": {},
     "output_type": "execute_result"
    }
   ],
   "source": [
    "c=\"/forecast.json\" if fc==1 else \"/current.json\"\n",
    "alerts=input(\"Do you wish to see weather alerts? Yes or No?:\\n\")\n",
    "alerts"
   ]
  },
  {
   "cell_type": "code",
   "execution_count": 30,
   "id": "805df852-3eb7-4bb4-b4be-8f5c3ed0643b",
   "metadata": {},
   "outputs": [],
   "source": [
    "days = int(input(\"Enter the number of days for the forecast...\")) if fc==1 else None\n",
    "days"
   ]
  },
  {
   "cell_type": "code",
   "execution_count": 32,
   "id": "734ed001-5238-44db-bdb4-141e4349b657",
   "metadata": {},
   "outputs": [
    {
     "name": "stdout",
     "output_type": "stream",
     "text": [
      "Do you wish to see the aqi? Yes or no?\n",
      " y\n"
     ]
    },
    {
     "data": {
      "text/plain": [
       "'y'"
      ]
     },
     "execution_count": 32,
     "metadata": {},
     "output_type": "execute_result"
    }
   ],
   "source": [
    "aqi=input(\"Do you wish to see the aqi? Yes or no?\\n\")\n",
    "aqi"
   ]
  },
  {
   "cell_type": "code",
   "execution_count": 34,
   "id": "69c9c00f",
   "metadata": {},
   "outputs": [],
   "source": [
    "def antipode(coords):\n",
    "    lat, lon = coords\n",
    "    antipode_lat = -lat\n",
    "    antipode_lon = lon + 180 if lon < 0 else lon - 180\n",
    "    return (antipode_lat, antipode_lon)\n"
   ]
  },
  {
   "cell_type": "code",
   "execution_count": 187,
   "id": "fbb3afc7",
   "metadata": {},
   "outputs": [
    {
     "name": "stdout",
     "output_type": "stream",
     "text": [
      "Enter the city or coordinates you wish to check:\n",
      " New Delhi\n"
     ]
    },
    {
     "data": {
      "text/plain": [
       "'New Delhi'"
      ]
     },
     "execution_count": 187,
     "metadata": {},
     "output_type": "execute_result"
    }
   ],
   "source": [
    "query=input(\"Enter the city or coordinates you wish to check:\\n\") \n",
    "query"
   ]
  },
  {
   "cell_type": "code",
   "execution_count": 169,
   "id": "601303b8",
   "metadata": {},
   "outputs": [
    {
     "data": {
      "text/plain": [
       "(34.0536909, -118.242766)"
      ]
     },
     "execution_count": 169,
     "metadata": {},
     "output_type": "execute_result"
    }
   ],
   "source": [
    "query=chat.send_message(query).text\n",
    "query=get_coordinates(query)\n",
    "query"
   ]
  },
  {
   "cell_type": "code",
   "execution_count": 147,
   "id": "8ffa418e",
   "metadata": {},
   "outputs": [
    {
     "data": {
      "text/plain": [
       "(-40.7127281, 105.9939848)"
      ]
     },
     "execution_count": 147,
     "metadata": {},
     "output_type": "execute_result"
    }
   ],
   "source": [
    "query=antipode(query)\n",
    "query"
   ]
  },
  {
   "cell_type": "code",
   "execution_count": 189,
   "id": "acbf5f21",
   "metadata": {},
   "outputs": [],
   "source": [
    "import pandas as pd\n",
    "from geopy.distance import geodesic\n",
    "ports = pd.read_csv('WPI_FILE.csv') \n",
    "def nearest_port(coords):\n",
    "    lat,lon=coords[0],coords[1]\n",
    "    def dist(row):\n",
    "        return geodesic((lat, lon), (row['LATITUDE'], row['LONGITUDE'])).kilometers\n",
    "    ports['Distance'] = ports.apply(dist, axis=1)\n",
    "    return (ports.sort_values('Distance').loc[0,[\"LATITUDE\"]].values.tolist()[0],ports.sort_values('Distance').loc[0,[\"LONGITUDE\"]].values.tolist()[0])\n",
    "\n"
   ]
  },
  {
   "cell_type": "code",
   "execution_count": 191,
   "id": "1e6ae56e",
   "metadata": {},
   "outputs": [
    {
     "data": {
      "text/plain": [
       "'New Delhi'"
      ]
     },
     "execution_count": 191,
     "metadata": {},
     "output_type": "execute_result"
    }
   ],
   "source": [
    "query"
   ]
  },
  {
   "cell_type": "code",
   "execution_count": 193,
   "id": "58d048d8-9018-459d-96b1-fa9804b817ba",
   "metadata": {},
   "outputs": [],
   "source": [
    "payload={}\n",
    "if fc==2:\n",
    "    payload.update({\"key\":os.getenv(\"WEATHER_API\"),\"q\":query,\"alerts\":\"yes\" if alerts.lower()==\"yes\"or alerts.lower()==\"y\" else \"no\",\n",
    "                    \"aqi\":\"yes\" if aqi.lower()==\"yes\"or aqi.lower()==\"y\" else \"no\"})\n",
    "elif fc==1:\n",
    "    payload.update({\"key\":os.getenv(\"WEATHER_API\"),\"q\":query, \"days\":days,\"alerts\":\"yes\" if alerts.lower()==\"yes\"or alerts.lower()==\"y\" else \"no\",\n",
    "                    \"aqi\":\"yes\" if aqi.lower()==\"yes\"or aqi.lower()==\"y\" else \"no\"})\n"
   ]
  },
  {
   "cell_type": "code",
   "execution_count": 195,
   "id": "059023c3-0ea8-42da-b0d9-e5cd2ccb29d3",
   "metadata": {},
   "outputs": [],
   "source": [
    "r=requests.get(base_url+c,params=payload)"
   ]
  },
  {
   "cell_type": "code",
   "execution_count": 197,
   "id": "b773889a-1a9b-4f24-b869-8d72f8314e31",
   "metadata": {},
   "outputs": [
    {
     "data": {
      "text/plain": [
       "'http://api.weatherapi.com/v1/current.json?key=2d6e3ca4ca984830a06131621250404&q=New+Delhi&alerts=yes&aqi=yes'"
      ]
     },
     "execution_count": 197,
     "metadata": {},
     "output_type": "execute_result"
    }
   ],
   "source": [
    "r.url"
   ]
  },
  {
   "cell_type": "code",
   "execution_count": 211,
   "id": "fdb1e15e-fa88-41cc-8796-5d12c47d01e3",
   "metadata": {},
   "outputs": [],
   "source": [
    "data=json.loads(r.text)"
   ]
  },
  {
   "cell_type": "code",
   "execution_count": 213,
   "id": "e228453a-0b6a-42e7-9ac4-6ed6bce9986f",
   "metadata": {},
   "outputs": [
    {
     "data": {
      "text/plain": [
       "{'location': {'name': 'New Delhi',\n",
       "  'region': 'Delhi',\n",
       "  'country': 'India',\n",
       "  'lat': 28.6,\n",
       "  'lon': 77.2,\n",
       "  'tz_id': 'Asia/Kolkata',\n",
       "  'localtime_epoch': 1744008090,\n",
       "  'localtime': '2025-04-07 12:11'},\n",
       " 'current': {'last_updated_epoch': 1744007400,\n",
       "  'last_updated': '2025-04-07 12:00',\n",
       "  'temp_c': 36.1,\n",
       "  'temp_f': 97.0,\n",
       "  'is_day': 1,\n",
       "  'condition': {'text': 'Mist',\n",
       "   'icon': '//cdn.weatherapi.com/weather/64x64/day/143.png',\n",
       "   'code': 1030},\n",
       "  'wind_mph': 6.0,\n",
       "  'wind_kph': 9.7,\n",
       "  'wind_degree': 122,\n",
       "  'wind_dir': 'ESE',\n",
       "  'pressure_mb': 1011.0,\n",
       "  'pressure_in': 29.85,\n",
       "  'precip_mm': 0.0,\n",
       "  'precip_in': 0.0,\n",
       "  'humidity': 19,\n",
       "  'cloud': 0,\n",
       "  'feelslike_c': 34.5,\n",
       "  'feelslike_f': 94.2,\n",
       "  'windchill_c': 38.9,\n",
       "  'windchill_f': 101.9,\n",
       "  'heatindex_c': 38.3,\n",
       "  'heatindex_f': 100.9,\n",
       "  'dewpoint_c': -3.6,\n",
       "  'dewpoint_f': 25.5,\n",
       "  'vis_km': 5.0,\n",
       "  'vis_miles': 3.0,\n",
       "  'uv': 9.0,\n",
       "  'gust_mph': 7.0,\n",
       "  'gust_kph': 11.2,\n",
       "  'air_quality': {'co': 2327.3,\n",
       "   'no2': 81.77,\n",
       "   'o3': 70.0,\n",
       "   'so2': 60.68,\n",
       "   'pm2_5': 143.375,\n",
       "   'pm10': 465.275,\n",
       "   'us-epa-index': 4,\n",
       "   'gb-defra-index': 10}}}"
      ]
     },
     "execution_count": 213,
     "metadata": {},
     "output_type": "execute_result"
    }
   ],
   "source": [
    "data"
   ]
  },
  {
   "cell_type": "code",
   "execution_count": 203,
   "id": "ba6891ce-3028-475e-a262-0e259030e71e",
   "metadata": {},
   "outputs": [
    {
     "data": {
      "text/plain": [
       "{'last_updated_epoch': 1744007400,\n",
       " 'last_updated': '2025-04-07 12:00',\n",
       " 'temp_c': 36.1,\n",
       " 'temp_f': 97.0,\n",
       " 'is_day': 1,\n",
       " 'condition': {'text': 'Mist',\n",
       "  'icon': '//cdn.weatherapi.com/weather/64x64/day/143.png',\n",
       "  'code': 1030},\n",
       " 'wind_mph': 6.0,\n",
       " 'wind_kph': 9.7,\n",
       " 'wind_degree': 122,\n",
       " 'wind_dir': 'ESE',\n",
       " 'pressure_mb': 1011.0,\n",
       " 'pressure_in': 29.85,\n",
       " 'precip_mm': 0.0,\n",
       " 'precip_in': 0.0,\n",
       " 'humidity': 19,\n",
       " 'cloud': 0,\n",
       " 'feelslike_c': 34.5,\n",
       " 'feelslike_f': 94.2,\n",
       " 'windchill_c': 38.9,\n",
       " 'windchill_f': 101.9,\n",
       " 'heatindex_c': 38.3,\n",
       " 'heatindex_f': 100.9,\n",
       " 'dewpoint_c': -3.6,\n",
       " 'dewpoint_f': 25.5,\n",
       " 'vis_km': 5.0,\n",
       " 'vis_miles': 3.0,\n",
       " 'uv': 9.0,\n",
       " 'gust_mph': 7.0,\n",
       " 'gust_kph': 11.2,\n",
       " 'air_quality': {'co': 2327.3,\n",
       "  'no2': 81.77,\n",
       "  'o3': 70.0,\n",
       "  'so2': 60.68,\n",
       "  'pm2_5': 143.375,\n",
       "  'pm10': 465.275,\n",
       "  'us-epa-index': 4,\n",
       "  'gb-defra-index': 10}}"
      ]
     },
     "execution_count": 203,
     "metadata": {},
     "output_type": "execute_result"
    }
   ],
   "source": [
    "current=data[\"current\"]\n",
    "current"
   ]
  },
  {
   "cell_type": "code",
   "execution_count": 205,
   "id": "993ee306-624f-4bdb-b1f7-a894450f3db1",
   "metadata": {},
   "outputs": [],
   "source": [
    "response =  {\"Location\":data[\"location\"],\"Temperature in Celsius\":current.get(\"temp_c\"), \n",
    "              \"Windspeed and Direction\": f\"\"\"{current.get(\"wind_kph\")} {current.get(\"wind_dir\")}\"\"\",\n",
    "              \"Precipitation\": f\"\"\"{current.get(\"precip_in\")} inches or {current.get(\"precip_mm\")} mm\"\"\",\n",
    "              \"Humidity\":current.get(\"humidity\"),\n",
    "              \"Cloud Cover\": current.get(\"cloud\"),\n",
    "              \"Feels Like\": current.get(\"feelslike_c\")} if payload[\"aqi\"]==\"no\" else {\"Location\":data[\"location\"],\"Temperature in Celsius\":current.get(\"temp_c\"), \n",
    "              \"Windspeed and Direction\": f\"\"\"{current.get(\"wind_kph\")} {current.get(\"wind_dir\")}\"\"\",\n",
    "              \"Precipitation\": f\"\"\"{current.get(\"precip_in\")} inches or {current.get(\"precip_mm\")} mm\"\"\",\n",
    "              \"Humidity\":current.get(\"humidity\"),\n",
    "              \"Cloud Cover\": current.get(\"cloud\"),\n",
    "              \"Feels Like\": current.get(\"feelslike_c\"),\n",
    "              \"AQI\": current.get(\"air_quality\")}"
   ]
  },
  {
   "cell_type": "code",
   "execution_count": 207,
   "id": "a7554afd-068c-464f-9138-46e24bd7f3f5",
   "metadata": {},
   "outputs": [
    {
     "name": "stdout",
     "output_type": "stream",
     "text": [
      "Location : {'name': 'New Delhi', 'region': 'Delhi', 'country': 'India', 'lat': 28.6, 'lon': 77.2, 'tz_id': 'Asia/Kolkata', 'localtime_epoch': 1744008090, 'localtime': '2025-04-07 12:11'}\n",
      "Temperature in Celsius : 36.1\n",
      "Windspeed and Direction : 9.7 ESE\n",
      "Precipitation : 0.0 inches or 0.0 mm\n",
      "Humidity : 19\n",
      "Cloud Cover : 0\n",
      "Feels Like : 34.5\n",
      "AQI:\n",
      "\tco : 2327.3\n",
      "\tno2 : 81.77\n",
      "\to3 : 70.0\n",
      "\tso2 : 60.68\n",
      "\tpm2_5 : 143.375\n",
      "\tpm10 : 465.275\n",
      "\tus-epa-index : 4\n",
      "\tgb-defra-index : 10\n"
     ]
    }
   ],
   "source": [
    "for keys,values in response.items():\n",
    "    if keys!=\"AQI\":\n",
    "        print(f\"{keys} : {values}\")\n",
    "    if keys==\"AQI\":\n",
    "        print(\"AQI:\")\n",
    "        for keys, values in response.get(\"AQI\").items():\n",
    "            print(f\"\\t{keys} : {values}\")\n"
   ]
  },
  {
   "cell_type": "code",
   "execution_count": null,
   "id": "ad66f9fa",
   "metadata": {},
   "outputs": [],
   "source": []
  },
  {
   "cell_type": "code",
   "execution_count": null,
   "id": "c5f4dd20-c408-4a5a-841f-9138c5f0e28b",
   "metadata": {},
   "outputs": [],
   "source": []
  }
 ],
 "metadata": {
  "kernelspec": {
   "display_name": "Python 3",
   "language": "python",
   "name": "python3"
  },
  "language_info": {
   "codemirror_mode": {
    "name": "ipython",
    "version": 3
   },
   "file_extension": ".py",
   "mimetype": "text/x-python",
   "name": "python",
   "nbconvert_exporter": "python",
   "pygments_lexer": "ipython3",
   "version": "3.10.11"
  }
 },
 "nbformat": 4,
 "nbformat_minor": 5
}
